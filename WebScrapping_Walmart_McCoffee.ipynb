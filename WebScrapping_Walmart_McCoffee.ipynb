{
  "nbformat": 4,
  "nbformat_minor": 0,
  "metadata": {
    "colab": {
      "provenance": [],
      "include_colab_link": true
    },
    "kernelspec": {
      "name": "python3",
      "display_name": "Python 3"
    },
    "language_info": {
      "name": "python"
    }
  },
  "cells": [
    {
      "cell_type": "markdown",
      "metadata": {
        "id": "view-in-github",
        "colab_type": "text"
      },
      "source": [
        "<a href=\"https://colab.research.google.com/github/paayala-rubio/Coffee-in-Canada/blob/main/WebScrapping_Walmart_McCoffee.ipynb\" target=\"_parent\"><img src=\"https://colab.research.google.com/assets/colab-badge.svg\" alt=\"Open In Colab\"/></a>"
      ]
    },
    {
      "cell_type": "code",
      "source": [
        "!pip install requests beautifulsoup4 pandas\n",
        "import requests\n",
        "from bs4 import BeautifulSoup\n",
        "import pandas as pd\n",
        "from tqdm import tqdm"
      ],
      "metadata": {
        "colab": {
          "base_uri": "https://localhost:8080/"
        },
        "id": "oKUekZmlpZ74",
        "outputId": "b2448dba-5e91-4473-9468-6ea0ab91f138"
      },
      "execution_count": null,
      "outputs": [
        {
          "output_type": "stream",
          "name": "stdout",
          "text": [
            "Requirement already satisfied: requests in /usr/local/lib/python3.11/dist-packages (2.32.3)\n",
            "Requirement already satisfied: beautifulsoup4 in /usr/local/lib/python3.11/dist-packages (4.13.4)\n",
            "Requirement already satisfied: pandas in /usr/local/lib/python3.11/dist-packages (2.2.2)\n",
            "Requirement already satisfied: charset-normalizer<4,>=2 in /usr/local/lib/python3.11/dist-packages (from requests) (3.4.2)\n",
            "Requirement already satisfied: idna<4,>=2.5 in /usr/local/lib/python3.11/dist-packages (from requests) (3.10)\n",
            "Requirement already satisfied: urllib3<3,>=1.21.1 in /usr/local/lib/python3.11/dist-packages (from requests) (2.4.0)\n",
            "Requirement already satisfied: certifi>=2017.4.17 in /usr/local/lib/python3.11/dist-packages (from requests) (2025.4.26)\n",
            "Requirement already satisfied: soupsieve>1.2 in /usr/local/lib/python3.11/dist-packages (from beautifulsoup4) (2.7)\n",
            "Requirement already satisfied: typing-extensions>=4.0.0 in /usr/local/lib/python3.11/dist-packages (from beautifulsoup4) (4.13.2)\n",
            "Requirement already satisfied: numpy>=1.23.2 in /usr/local/lib/python3.11/dist-packages (from pandas) (2.0.2)\n",
            "Requirement already satisfied: python-dateutil>=2.8.2 in /usr/local/lib/python3.11/dist-packages (from pandas) (2.9.0.post0)\n",
            "Requirement already satisfied: pytz>=2020.1 in /usr/local/lib/python3.11/dist-packages (from pandas) (2025.2)\n",
            "Requirement already satisfied: tzdata>=2022.7 in /usr/local/lib/python3.11/dist-packages (from pandas) (2025.2)\n",
            "Requirement already satisfied: six>=1.5 in /usr/local/lib/python3.11/dist-packages (from python-dateutil>=2.8.2->pandas) (1.17.0)\n"
          ]
        }
      ]
    },
    {
      "cell_type": "code",
      "source": [
        "import time\n",
        "import random\n",
        "\n",
        "# Add this inside the loop\n",
        "time.sleep(random.uniform(1, 3))  # 1–3 second delay"
      ],
      "metadata": {
        "id": "OClgabw1yeyP"
      },
      "execution_count": null,
      "outputs": []
    },
    {
      "cell_type": "code",
      "source": [
        "# Extract reviews\n",
        "reviews = soup.find_all('div', class_='overflow-visible b--none mt4-l ma0 dark-gray') # Look for the article class in the inspect (right click) option in the website\n",
        "\n",
        "# Loop and get title + review\n",
        "title = []\n",
        "review = []\n",
        "\n",
        "for review in reviews:\n",
        "    review = review.find('span', class_='tl-m db-m').text\n",
        "    print(review)\n",
        "\n",
        "\n"
      ],
      "metadata": {
        "colab": {
          "base_uri": "https://localhost:8080/"
        },
        "id": "VJFgnMOlpmWR",
        "outputId": "ba8f87ca-6333-4ef2-998c-e52721c34382"
      },
      "execution_count": null,
      "outputs": [
        {
          "output_type": "stream",
          "name": "stdout",
          "text": [
            "An every day drinking coffee that is authentic!!!!\n",
            "Excellent Coffee. This brand is one of my favourite Colombian coffees.\n",
            "This coffee is a quite nice. It is a little stronger than I normally drink but I enjoyed the change\n",
            "We really enjoy the Keurig McCafe pods. The taste is amazing\n",
            "Really enjoy the taste.  Great way to start the day.\n",
            "Everyone loves this coffee it is a staple in our house\n",
            "McCafe Premium Medium Dark Coffee is a treat to have at home without having to go to town.It is delicious which is nice for a change.\n",
            "McCafe is an excellent coffee. The flavor is amazing and pretty much exactly like McDonald's.\n",
            "Great coffee - especially when it's on sale\n"
          ]
        }
      ]
    },
    {
      "cell_type": "code",
      "source": [
        "# Scraping of Multiple Pages\n",
        "reviews_data = []\n",
        "\n",
        "for page in tqdm(range(1, 135), desc=\"Scraping pages\"):\n",
        "    url = f'https://www.walmart.ca/en/reviews/product/6000200922521?entryPoint=viewAllReviewsTop&page={page}.html'\n",
        "    response = requests.get(url)\n",
        "    soup = BeautifulSoup(response.text, 'html.parser')\n",
        "\n",
        "    reviews = soup.find_all('div', class_='overflow-visible b--none mt4-l ma0 dark-gray')\n",
        "\n",
        "    for review in reviews:\n",
        "        date = review.find('div', class_='f7 gray flex flex-auto flex-none-l tr tl-l justify-end justify-start-l')\n",
        "        user = review.find('span', class_='f7 b mv0')\n",
        "        details = review.find('span', class_='tl-m db-m')\n",
        "        stars = review.find('span', class_='w_q67L')\n",
        "        title = review.find('span', class_='w_vi_D')\n",
        "        user_type = review.find('span', class_='b f7 dark-gray')\n",
        "\n",
        "        reviews_data.append({\n",
        "            'Review_Date': date.text.strip() if date else None,\n",
        "            'User_Name': user.text.strip() if user else None,\n",
        "            'User_Type': user_type.text.strip() if user_type else None,\n",
        "            'Stars' : stars.text.strip() if stars else None,\n",
        "            'Title' : title.text.strip() if title else None,\n",
        "            'Details': details.text.strip() if details else None\n",
        "        })\n",
        "\n",
        "\n",
        "df_all = pd.DataFrame(reviews_data)\n",
        "print(df_all.head(20))"
      ],
      "metadata": {
        "colab": {
          "base_uri": "https://localhost:8080/"
        },
        "id": "WkP51_2Ywo_V",
        "outputId": "c97da6a6-e505-4b25-815c-b7986dcff1ef"
      },
      "execution_count": null,
      "outputs": [
        {
          "output_type": "stream",
          "name": "stderr",
          "text": [
            "Scraping pages: 100%|██████████| 134/134 [04:29<00:00,  2.01s/it]"
          ]
        },
        {
          "output_type": "stream",
          "name": "stdout",
          "text": [
            "     Review_Date         User_Name          User_Type  \\\n",
            "0    Dec 2, 2024    Biff Schmindle  Verified Purchase   \n",
            "1   Jan 23, 2025             Maren  Verified Purchase   \n",
            "2   May 14, 2025   Patricia Phibbs  Verified Purchase   \n",
            "3   May 16, 2025        I Anderson  Verified Purchase   \n",
            "4    May 2, 2025              Elon  Verified Purchase   \n",
            "5   Jan 13, 2025           Parents  Verified Purchase   \n",
            "6   Dec 20, 2024           Ssimund  Verified Purchase   \n",
            "7   Apr 25, 2025  Walmart customer  Verified Purchase   \n",
            "8   Dec 17, 2024            Nedder  Verified Purchase   \n",
            "9    Apr 9, 2025         Holleygab  Verified Purchase   \n",
            "10  Apr 13, 2025  Walmart customer  Verified Purchase   \n",
            "11  Apr 12, 2025              Bboi  Verified Purchase   \n",
            "12  Apr 17, 2025     Coffee Taster  Verified Purchase   \n",
            "13  Apr 17, 2025     Coffee Taster  Verified Purchase   \n",
            "14  Apr 25, 2025         Lu coffee  Verified Purchase   \n",
            "15   Oct 9, 2024         DrPontiac  Verified Purchase   \n",
            "16   Feb 5, 2025              Char  Verified Purchase   \n",
            "17  Dec 30, 2024              None  Verified Purchase   \n",
            "18   Jan 1, 2025             Lindy  Verified Purchase   \n",
            "19   Feb 5, 2025              Char  Verified Purchase   \n",
            "\n",
            "                      Stars                                             Title  \\\n",
            "0   5 out of 5 stars review  The best take-out coffee is available in my home   \n",
            "1   5 out of 5 stars review        Keurig medium dark roast coffee pods order   \n",
            "2   5 out of 5 stars review                                   McD's the best!   \n",
            "3   5 out of 5 stars review                                              Bold   \n",
            "4   5 out of 5 stars review                               Delicious as always   \n",
            "5   4 out of 5 stars review                                       McCafe Pods   \n",
            "6   4 out of 5 stars review                                     MCCAFE COFFEE   \n",
            "7   2 out of 5 stars review                              Poor Quality Company   \n",
            "8   1 out of 5 stars review                             Livraison très longue   \n",
            "9   5 out of 5 stars review                                           Love it   \n",
            "10  5 out of 5 stars review                                    McCafé at Home   \n",
            "11  5 out of 5 stars review                    Taste like the real thing baby   \n",
            "12  5 out of 5 stars review                            Great Colombian Coffee   \n",
            "13  4 out of 5 stars review                                       Nice change   \n",
            "14  5 out of 5 stars review                                       McCafe pods   \n",
            "15  5 out of 5 stars review                             A GREAT CUP OF COFFEE   \n",
            "16  5 out of 5 stars review                                       Good Coffee   \n",
            "17  1 out of 5 stars review                                Won't  order again   \n",
            "18  5 out of 5 stars review                                       Coffee Pods   \n",
            "19  5 out of 5 stars review                                       Good Coffee   \n",
            "\n",
            "                                              Details  \n",
            "0   This is my favourite coffee when I buy it out ...  \n",
            "1   Love this coffee (McCaf medium dark roast)! \\n...  \n",
            "2   Yum! Love this coffee! It's rich and robust, a...  \n",
            "3   Bolder than the regular McCafe. One of the bet...  \n",
            "4   Perfect coffee everytime. Tastes as expected a...  \n",
            "5   We will always choose McDonald's coffee over T...  \n",
            "6   Coffee has a nice smooth taste and just the ri...  \n",
            "7   Keurig is terrible product! Have had 3 of the ...  \n",
            "8   J'ai passé ma commande le 1er décembre, et nou...  \n",
            "9   Everyone loves this coffee it is a staple in o...  \n",
            "10  Really enjoy the taste.  Great way to start th...  \n",
            "11  An every day drinking coffee that is authentic...  \n",
            "12  Excellent Coffee. This brand is one of my favo...  \n",
            "13  This coffee is a quite nice. It is a little st...  \n",
            "14  We really enjoy the Keurig McCafe pods. The ta...  \n",
            "15  McCafe Premium Medium Dark Coffee is a treat t...  \n",
            "16                        Great price for good coffee  \n",
            "17              Terrible leaves coffee grounds in cup  \n",
            "18   I prefer this brand and the price here was good.  \n",
            "19                        Great price for good coffee  \n"
          ]
        },
        {
          "output_type": "stream",
          "name": "stderr",
          "text": [
            "\n"
          ]
        }
      ]
    },
    {
      "cell_type": "code",
      "source": [
        "# Save dataframe to CSV\n",
        "df_all.to_csv('reviews_data_Mc.csv', index=False)"
      ],
      "metadata": {
        "id": "w9mB-XvHu4V3"
      },
      "execution_count": null,
      "outputs": []
    }
  ]
}